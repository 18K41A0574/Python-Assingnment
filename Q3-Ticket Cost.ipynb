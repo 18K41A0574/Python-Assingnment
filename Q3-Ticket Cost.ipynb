{
 "cells": [
  {
   "cell_type": "code",
   "execution_count": 5,
   "metadata": {
    "scrolled": true
   },
   "outputs": [
    {
     "name": "stdout",
     "output_type": "stream",
     "text": [
      "Type of seat:Circle\n",
      "Payment Mode:cash\n",
      "Cost of ticket: 675.0\n"
     ]
    }
   ],
   "source": [
    "s=input(\"Type of seat:\")\n",
    "m=input(\"Payment Mode:\")\n",
    "if(s==\"Stalls\"):\n",
    "    c=625\n",
    "elif(s==\"Circle\"):\n",
    "    c=750\n",
    "elif(s==\"Upper Class\"):\n",
    "    c=850\n",
    "else:\n",
    "    c=1000\n",
    "if(m==\"cash\"):\n",
    "    d=c*(0.1)\n",
    "    c-=d\n",
    "else:\n",
    "    d=c*(0.05)\n",
    "    c-=d\n",
    "print(\"Cost of ticket:\",c)"
   ]
  },
  {
   "cell_type": "code",
   "execution_count": null,
   "metadata": {},
   "outputs": [],
   "source": []
  }
 ],
 "metadata": {
  "kernelspec": {
   "display_name": "Python 3",
   "language": "python",
   "name": "python3"
  },
  "language_info": {
   "codemirror_mode": {
    "name": "ipython",
    "version": 3
   },
   "file_extension": ".py",
   "mimetype": "text/x-python",
   "name": "python",
   "nbconvert_exporter": "python",
   "pygments_lexer": "ipython3",
   "version": "3.8.3"
  }
 },
 "nbformat": 4,
 "nbformat_minor": 4
}
