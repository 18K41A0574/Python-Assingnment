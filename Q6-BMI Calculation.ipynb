{
 "cells": [
  {
   "cell_type": "code",
   "execution_count": 7,
   "metadata": {
    "scrolled": true
   },
   "outputs": [
    {
     "name": "stdout",
     "output_type": "stream",
     "text": [
      "Enter weigth in pounds:110\n",
      "Enter height in inches:40\n",
      "Body Mass Index: 48.3360336001922\n",
      "Obese\n"
     ]
    }
   ],
   "source": [
    "w=float(input(\"Enter weigth in pounds:\"))\n",
    "h=float(input(\"Enter height in inches:\"))\n",
    "w=w*(0.45359237)\n",
    "h=h*(0.0254)\n",
    "bmi=(w/(h*h))\n",
    "print(\"Body Mass Index:\",bmi)\n",
    "if(bmi<18.5):\n",
    "    print(\"Underweight\")\n",
    "elif(bmi>=18.5 and bmi<25.0):\n",
    "    print(\"Normal\")\n",
    "elif(bmi>25.0 and bmi<30.0):\n",
    "    print(\"Overweight\")\n",
    "else:\n",
    "    print(\"Obese\")"
   ]
  },
  {
   "cell_type": "code",
   "execution_count": null,
   "metadata": {},
   "outputs": [],
   "source": []
  }
 ],
 "metadata": {
  "kernelspec": {
   "display_name": "Python 3",
   "language": "python",
   "name": "python3"
  },
  "language_info": {
   "codemirror_mode": {
    "name": "ipython",
    "version": 3
   },
   "file_extension": ".py",
   "mimetype": "text/x-python",
   "name": "python",
   "nbconvert_exporter": "python",
   "pygments_lexer": "ipython3",
   "version": "3.8.3"
  }
 },
 "nbformat": 4,
 "nbformat_minor": 4
}
