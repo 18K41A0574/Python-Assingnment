{
 "cells": [
  {
   "cell_type": "code",
   "execution_count": 2,
   "metadata": {},
   "outputs": [
    {
     "name": "stdout",
     "output_type": "stream",
     "text": [
      "Distance to be travel:520\n",
      "Weight of the goods:50\n",
      "Amount to be charged: 3120 /-\n"
     ]
    }
   ],
   "source": [
    "d=int(input(\"Distance to be travel:\"))\n",
    "w=int(input(\"Weight of the goods:\"))\n",
    "if(d>=500):\n",
    "    if(w>=100):\n",
    "        c=5\n",
    "    elif(w>=10 and w<100):\n",
    "        c=6\n",
    "    else:\n",
    "        c=7\n",
    "else:\n",
    "    if(w>=100):\n",
    "        c=8\n",
    "    else:\n",
    "        c=5\n",
    "a=d*c\n",
    "print(\"Amount to be charged:\",a,\"/-\")"
   ]
  },
  {
   "cell_type": "code",
   "execution_count": null,
   "metadata": {},
   "outputs": [],
   "source": []
  }
 ],
 "metadata": {
  "kernelspec": {
   "display_name": "Python 3",
   "language": "python",
   "name": "python3"
  },
  "language_info": {
   "codemirror_mode": {
    "name": "ipython",
    "version": 3
   },
   "file_extension": ".py",
   "mimetype": "text/x-python",
   "name": "python",
   "nbconvert_exporter": "python",
   "pygments_lexer": "ipython3",
   "version": "3.8.3"
  }
 },
 "nbformat": 4,
 "nbformat_minor": 4
}
