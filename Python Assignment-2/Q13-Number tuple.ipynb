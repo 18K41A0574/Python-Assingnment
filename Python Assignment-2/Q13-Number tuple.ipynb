{
 "cells": [
  {
   "cell_type": "code",
   "execution_count": 3,
   "metadata": {},
   "outputs": [
    {
     "name": "stdout",
     "output_type": "stream",
     "text": [
      "List: [5, 30, 240, 720, 6480, 6480]\n"
     ]
    }
   ],
   "source": [
    "l=(5,6,8,3,9,1)\n",
    "l2=[]\n",
    "l2.append(l[0])\n",
    "for i in range(len(l)-1):\n",
    "    t=l2[i]*l[i+1]\n",
    "    l2.append(t)\n",
    "print(\"List:\",l2)"
   ]
  },
  {
   "cell_type": "code",
   "execution_count": null,
   "metadata": {},
   "outputs": [],
   "source": []
  }
 ],
 "metadata": {
  "kernelspec": {
   "display_name": "Python 3",
   "language": "python",
   "name": "python3"
  },
  "language_info": {
   "codemirror_mode": {
    "name": "ipython",
    "version": 3
   },
   "file_extension": ".py",
   "mimetype": "text/x-python",
   "name": "python",
   "nbconvert_exporter": "python",
   "pygments_lexer": "ipython3",
   "version": "3.8.3"
  }
 },
 "nbformat": 4,
 "nbformat_minor": 4
}
