{
 "cells": [
  {
   "cell_type": "code",
   "execution_count": 7,
   "metadata": {},
   "outputs": [
    {
     "name": "stdout",
     "output_type": "stream",
     "text": [
      "Enter 1st side:5\n",
      "Enter 2nd side:6\n",
      "Enter 3rd side:7\n",
      "The area of the triangle: 14.696938456699069\n"
     ]
    }
   ],
   "source": [
    "x=float(input(\"Enter 1st side:\"))  \n",
    "y=float(input(\"Enter 2nd side:\"))  \n",
    "z=float(input(\"Enter 3rd side:\")) \n",
    "s=(x+y+z)/2\n",
    "area=(s*(s-x)*(s-y)*(s-z))**0.5\n",
    "print(\"The area of the triangle:\",area)"
   ]
  },
  {
   "cell_type": "code",
   "execution_count": null,
   "metadata": {},
   "outputs": [],
   "source": []
  }
 ],
 "metadata": {
  "kernelspec": {
   "display_name": "Python 3",
   "language": "python",
   "name": "python3"
  }
 },
 "nbformat": 4,
 "nbformat_minor": 4
}
