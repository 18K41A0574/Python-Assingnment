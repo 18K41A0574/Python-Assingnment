{
 "cells": [
  {
   "cell_type": "code",
   "execution_count": 2,
   "metadata": {},
   "outputs": [
    {
     "name": "stdout",
     "output_type": "stream",
     "text": [
      "Enter no of days:1\n",
      "Enter no of hours:12\n",
      "Enter no of minutes:40\n",
      "Enter no of seconds:30\n",
      "Total number of seconds: 132030\n"
     ]
    }
   ],
   "source": [
    "d=int(input(\"Enter no of days:\"))\n",
    "h=int(input(\"Enter no of hours:\"))\n",
    "m=int(input(\"Enter no of minutes:\"))\n",
    "s=int(input(\"Enter no of seconds:\"))\n",
    "total=d*3600*24\n",
    "total=total+(h*3600)\n",
    "total=total+(m*60)\n",
    "total=total+s\n",
    "print(\"Total number of seconds:\",total)"
   ]
  },
  {
   "cell_type": "code",
   "execution_count": null,
   "metadata": {},
   "outputs": [],
   "source": []
  }
 ],
 "metadata": {
  "kernelspec": {
   "display_name": "Python 3",
   "language": "python",
   "name": "python3"
  },
  "language_info": {
   "codemirror_mode": {
    "name": "ipython",
    "version": 3
   },
   "file_extension": ".py",
   "mimetype": "text/x-python",
   "name": "python",
   "nbconvert_exporter": "python",
   "pygments_lexer": "ipython3",
   "version": "3.8.3"
  }
 },
 "nbformat": 4,
 "nbformat_minor": 4
}
