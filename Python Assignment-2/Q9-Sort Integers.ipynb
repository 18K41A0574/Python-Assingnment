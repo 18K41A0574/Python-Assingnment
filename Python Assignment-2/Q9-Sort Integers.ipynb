{
 "cells": [
  {
   "cell_type": "code",
   "execution_count": 2,
   "metadata": {},
   "outputs": [
    {
     "name": "stdout",
     "output_type": "stream",
     "text": [
      "Enter 1st number:5\n",
      "Enter 2nd number:7\n",
      "Enter 3rd number:3\n",
      "Sorted integers: 3 5 7\n"
     ]
    }
   ],
   "source": [
    "i=int(input(\"Enter 1st number:\"))\n",
    "j=int(input(\"Enter 2nd number:\"))\n",
    "k=int(input(\"Enter 3rd number:\"))\n",
    "a=min(i,j,k)\n",
    "c=max(i,j,k)\n",
    "b=(i+j+k)-a-c\n",
    "print(\"Sorted integers:\",a,b,c)"
   ]
  },
  {
   "cell_type": "code",
   "execution_count": null,
   "metadata": {},
   "outputs": [],
   "source": []
  }
 ],
 "metadata": {
  "kernelspec": {
   "display_name": "Python 3",
   "language": "python",
   "name": "python3"
  },
  "language_info": {
   "codemirror_mode": {
    "name": "ipython",
    "version": 3
   },
   "file_extension": ".py",
   "mimetype": "text/x-python",
   "name": "python",
   "nbconvert_exporter": "python",
   "pygments_lexer": "ipython3",
   "version": "3.8.3"
  }
 },
 "nbformat": 4,
 "nbformat_minor": 4
}
