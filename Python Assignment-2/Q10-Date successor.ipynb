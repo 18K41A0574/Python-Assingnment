{
 "cells": [
  {
   "cell_type": "code",
   "execution_count": 8,
   "metadata": {},
   "outputs": [
    {
     "name": "stdout",
     "output_type": "stream",
     "text": [
      "Enter year:2020\n",
      "Enter month:8\n",
      "Enter day:24\n",
      "Immediate successor:2020-8-25\n"
     ]
    }
   ],
   "source": [
    "year=int(input(\"Enter year:\"))\n",
    "month=int(input(\"Enter month:\"))\n",
    "day=int(input(\"Enter day:\"))\n",
    "if(year%4==0 and(year%100!=0 or year%400==0)):\n",
    "    leap=True\n",
    "else:\n",
    "    leap=False\n",
    "if month in(1,3,5,7,8,10,12):\n",
    "    mlength=31\n",
    "elif month==2:\n",
    "    if leap:\n",
    "        mlength=29\n",
    "    else:\n",
    "        mlength=28\n",
    "else:\n",
    "    mlength=30\n",
    "if day<mlength:\n",
    "    day+=1\n",
    "else:\n",
    "    day=1\n",
    "    if month==12:\n",
    "        month=1\n",
    "        yr+=1\n",
    "    else:\n",
    "        month+=1\n",
    "print(\"Immediate successor:%d-%d-%d\"%(year,month,day))"
   ]
  },
  {
   "cell_type": "code",
   "execution_count": null,
   "metadata": {},
   "outputs": [],
   "source": []
  }
 ],
 "metadata": {
  "kernelspec": {
   "display_name": "Python 3",
   "language": "python",
   "name": "python3"
  },
  "language_info": {
   "codemirror_mode": {
    "name": "ipython",
    "version": 3
   },
   "file_extension": ".py",
   "mimetype": "text/x-python",
   "name": "python",
   "nbconvert_exporter": "python",
   "pygments_lexer": "ipython3",
   "version": "3.8.3"
  }
 },
 "nbformat": 4,
 "nbformat_minor": 4
}
