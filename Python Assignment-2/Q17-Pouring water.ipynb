{
 "cells": [
  {
   "cell_type": "code",
   "execution_count": null,
   "metadata": {},
   "outputs": [],
   "source": [
    "def gcd(a,b):\n",
    "    if b==0: \n",
    "        return a \n",
    "    return gcd(b,a%b) \n",
    "def counts(a,b,c): \n",
    "    v1=b\n",
    "    v2=0\n",
    "    count=1\n",
    "    while ((v1 is not c) and (v2 is not c)): \n",
    "        temp=min(v1,a-v2) \n",
    "        v2=v2+temp \n",
    "        v1=v1-temp \n",
    "        count=count+1\n",
    "        if ((v2==c)or(v1==c)): \n",
    "            break\n",
    "        if v1==0: \n",
    "            v1=b \n",
    "            count=count+1\n",
    "        if v2==a: \n",
    "            v2=0\n",
    "            count=count+1\n",
    "    return count \n",
    "def ispossible(a,b,c): \n",
    "    if a>b: \n",
    "        temp=a \n",
    "        a=b \n",
    "        b=temp \n",
    "    if c>b: \n",
    "        return -1\n",
    "    if (c%(gcd(b,a))!=0): \n",
    "        return -1\n",
    "    return(min(counts(b,a,c),counts(a,b,c)))\n",
    "t=int(input(\"Enter no of testcases:\"))\n",
    "for i in range(t):\n",
    "  a=int(input(\"Enter capacity of vessel a: \"))\n",
    "  b=int(input(\"Enter capacity of vessel b: \"))\n",
    "  c=int(input(\"Enter capacity to be obtained:\"))\n",
    "  print(\"Minimum number of steps required is:\",ispossible(a,b,c))"
   ]
  },
  {
   "cell_type": "code",
   "execution_count": null,
   "metadata": {},
   "outputs": [],
   "source": []
  }
 ],
 "metadata": {
  "kernelspec": {
   "display_name": "Python 3",
   "language": "python",
   "name": "python3"
  },
  "language_info": {
   "codemirror_mode": {
    "name": "ipython",
    "version": 3
   },
   "file_extension": ".py",
   "mimetype": "text/x-python",
   "name": "python",
   "nbconvert_exporter": "python",
   "pygments_lexer": "ipython3",
   "version": "3.8.3"
  }
 },
 "nbformat": 4,
 "nbformat_minor": 4
}
