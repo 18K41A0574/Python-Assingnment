{
 "cells": [
  {
   "cell_type": "code",
   "execution_count": 6,
   "metadata": {},
   "outputs": [
    {
     "name": "stdout",
     "output_type": "stream",
     "text": [
      "Enter salary:260000\n",
      "Tax: 13000.0\n"
     ]
    }
   ],
   "source": [
    "s=int(input(\"Enter salary:\"))\n",
    "if (s>=0)and(s<=250000):\n",
    "    tax=(s*0)\n",
    "elif (s>250000)and(s<=500000):\n",
    "    tax=(s*0.05)\n",
    "elif (s>500000)and(s<=750000):\n",
    "    tax=(s*0.1)\n",
    "elif (s>750000)and(s<=1000000):\n",
    "    tax=(s*0.15)\n",
    "elif (s>1000000)and(s<=1250000):\n",
    "    tax=(s*0.2)\n",
    "elif (s>1250000)and(s<=1500000):\n",
    "    tax=(s*0.25)\n",
    "else:\n",
    "    tax=(s*0.3)\n",
    "print(\"Tax:\",tax)"
   ]
  },
  {
   "cell_type": "code",
   "execution_count": null,
   "metadata": {},
   "outputs": [],
   "source": []
  }
 ],
 "metadata": {
  "kernelspec": {
   "display_name": "Python 3",
   "language": "python",
   "name": "python3"
  },
  "language_info": {
   "codemirror_mode": {
    "name": "ipython",
    "version": 3
   },
   "file_extension": ".py",
   "mimetype": "text/x-python",
   "name": "python",
   "nbconvert_exporter": "python",
   "pygments_lexer": "ipython3",
   "version": "3.8.3"
  }
 },
 "nbformat": 4,
 "nbformat_minor": 4
}
