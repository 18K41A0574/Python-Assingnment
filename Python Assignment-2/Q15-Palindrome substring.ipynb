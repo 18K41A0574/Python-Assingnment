{
 "cells": [
  {
   "cell_type": "code",
   "execution_count": 1,
   "metadata": {},
   "outputs": [
    {
     "name": "stdout",
     "output_type": "stream",
     "text": [
      "Enter string:abaabbbabba\n",
      "bbabb\n"
     ]
    }
   ],
   "source": [
    "def pal(n):\n",
    "    d=[[False for i in range(len(n))] for i in range(len(n))]\n",
    "    for i in range(len(n)):\n",
    "        d[i][i]=True\n",
    "    maxlen=1\n",
    "    st=0\n",
    "    for j in range(2,len(n)+1):\n",
    "        for i in range(len(n)-j+1):\n",
    "            end=i+j\n",
    "            if j==2:\n",
    "                if n[i]==n[end-1]:\n",
    "                    d[i][end-1]=True\n",
    "                    maxlen=j\n",
    "                    st=i\n",
    "            else:\n",
    "                if n[i]==n[end-1] and d[i+1][end-2]:\n",
    "                    d[i][end-1]=True\n",
    "                    maxlen=j\n",
    "                    st=i\n",
    "    return n[st:st+maxlen]\n",
    "n=input(\"Enter string:\")\n",
    "print(pal(n))"
   ]
  },
  {
   "cell_type": "code",
   "execution_count": null,
   "metadata": {},
   "outputs": [],
   "source": []
  }
 ],
 "metadata": {
  "kernelspec": {
   "display_name": "Python 3",
   "language": "python",
   "name": "python3"
  },
  "language_info": {
   "codemirror_mode": {
    "name": "ipython",
    "version": 3
   },
   "file_extension": ".py",
   "mimetype": "text/x-python",
   "name": "python",
   "nbconvert_exporter": "python",
   "pygments_lexer": "ipython3",
   "version": "3.8.3"
  }
 },
 "nbformat": 4,
 "nbformat_minor": 4
}
