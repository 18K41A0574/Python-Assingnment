{
 "cells": [
  {
   "cell_type": "code",
   "execution_count": 4,
   "metadata": {},
   "outputs": [
    {
     "name": "stdout",
     "output_type": "stream",
     "text": [
      "Enter amount of water in kg:200\n",
      "Enter initial temperature of water:20\n",
      "Enter final temperature of water:50\n",
      "Energy needed: 25104000\n"
     ]
    }
   ],
   "source": [
    "m=int(input(\"Enter amount of water in kg:\"))\n",
    "it=int(input(\"Enter initial temperature of water:\"))\n",
    "ft=int(input(\"Enter final temperature of water:\"))\n",
    "Q=m*(ft-it)*4184\n",
    "print(\"Energy needed:\",Q)"
   ]
  },
  {
   "cell_type": "code",
   "execution_count": null,
   "metadata": {},
   "outputs": [],
   "source": []
  }
 ],
 "metadata": {
  "kernelspec": {
   "display_name": "Python 3",
   "language": "python",
   "name": "python3"
  },
  "language_info": {
   "codemirror_mode": {
    "name": "ipython",
    "version": 3
   },
   "file_extension": ".py",
   "mimetype": "text/x-python",
   "name": "python",
   "nbconvert_exporter": "python",
   "pygments_lexer": "ipython3",
   "version": "3.8.3"
  }
 },
 "nbformat": 4,
 "nbformat_minor": 4
}
