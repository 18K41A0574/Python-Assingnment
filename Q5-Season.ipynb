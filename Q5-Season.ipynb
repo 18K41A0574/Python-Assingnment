{
 "cells": [
  {
   "cell_type": "code",
   "execution_count": 7,
   "metadata": {},
   "outputs": [
    {
     "name": "stdout",
     "output_type": "stream",
     "text": [
      "Enter month:June\n",
      "Season:Summer\n"
     ]
    }
   ],
   "source": [
    "month=input(\"Enter month:\")\n",
    "print(\"Season:\",end=\"\")\n",
    "if(month==\"December\" or month==\"January\" or month==\"February\"):\n",
    "    print(\"Winter\")\n",
    "elif(month==\"March\" or month==\"April\" or month==\"May\"):\n",
    "    print(\"Spring\")\n",
    "elif(month==\"June\" or month==\"July\" or month==\"August\"):\n",
    "    print(\"Summer\")\n",
    "else:\n",
    "    print(\"Autumn\")"
   ]
  },
  {
   "cell_type": "code",
   "execution_count": null,
   "metadata": {},
   "outputs": [],
   "source": []
  }
 ],
 "metadata": {
  "kernelspec": {
   "display_name": "Python 3",
   "language": "python",
   "name": "python3"
  },
  "language_info": {
   "codemirror_mode": {
    "name": "ipython",
    "version": 3
   },
   "file_extension": ".py",
   "mimetype": "text/x-python",
   "name": "python",
   "nbconvert_exporter": "python",
   "pygments_lexer": "ipython3",
   "version": "3.8.3"
  }
 },
 "nbformat": 4,
 "nbformat_minor": 4
}
