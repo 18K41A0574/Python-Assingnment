{
 "cells": [
  {
   "cell_type": "code",
   "execution_count": 4,
   "metadata": {},
   "outputs": [
    {
     "name": "stdout",
     "output_type": "stream",
     "text": [
      "Enter number between 100 & 1000:745\n",
      "16\n"
     ]
    }
   ],
   "source": [
    "i=int(input(\"Enter number between 100 & 1000:\"))\n",
    "sum=0\n",
    "if(i>=100 and i<=1000):\n",
    "    while(i>0):\n",
    "        sum+=i%10\n",
    "        i=i//10\n",
    "    print(sum)\n",
    "else:\n",
    "    print(\"Invalid input\")"
   ]
  },
  {
   "cell_type": "code",
   "execution_count": null,
   "metadata": {},
   "outputs": [],
   "source": []
  }
 ],
 "metadata": {
  "kernelspec": {
   "display_name": "Python 3",
   "language": "python",
   "name": "python3"
  },
  "language_info": {
   "codemirror_mode": {
    "name": "ipython",
    "version": 3
   },
   "file_extension": ".py",
   "mimetype": "text/x-python",
   "name": "python",
   "nbconvert_exporter": "python",
   "pygments_lexer": "ipython3",
   "version": "3.8.3"
  }
 },
 "nbformat": 4,
 "nbformat_minor": 4
}
